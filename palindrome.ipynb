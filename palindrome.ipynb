{
  "nbformat": 4,
  "nbformat_minor": 0,
  "metadata": {
    "colab": {
      "provenance": [],
      "authorship_tag": "ABX9TyM7Rq4Rf5VIwKd1OQKkWwyw",
      "include_colab_link": true
    },
    "kernelspec": {
      "name": "python3",
      "display_name": "Python 3"
    },
    "language_info": {
      "name": "python"
    }
  },
  "cells": [
    {
      "cell_type": "markdown",
      "metadata": {
        "id": "view-in-github",
        "colab_type": "text"
      },
      "source": [
        "<a href=\"https://colab.research.google.com/github/PravallikaSomisetti/python/blob/main/palindrome.ipynb\" target=\"_parent\"><img src=\"https://colab.research.google.com/assets/colab-badge.svg\" alt=\"Open In Colab\"/></a>"
      ]
    },
    {
      "cell_type": "code",
      "execution_count": 4,
      "metadata": {
        "colab": {
          "base_uri": "https://localhost:8080/"
        },
        "id": "SI3B9d0xxOjO",
        "outputId": "83e81c9a-4400-468e-8cb8-03373cd90a56"
      },
      "outputs": [
        {
          "output_type": "stream",
          "name": "stdout",
          "text": [
            "enter length: 5\n",
            "enter width: 8\n",
            "26\n"
          ]
        }
      ],
      "source": [
        "l=int(input(\"enter length: \"))\n",
        "w=int(input(\"enter width: \"))\n",
        "perimeter=2*(l+w)\n",
        "print(perimeter)"
      ]
    },
    {
      "cell_type": "code",
      "source": [
        "str=input(\"enter a string: \")\n",
        "a=str[::-1]\n",
        "if(str==a):\n",
        "   print(\"It is a palindrome\")\n",
        "else:\n",
        "   print(\"Not a palindrome\")"
      ],
      "metadata": {
        "colab": {
          "base_uri": "https://localhost:8080/"
        },
        "id": "tf3bqMh50e6d",
        "outputId": "290f7b8b-eb93-4e41-c3f9-39cddb747e35"
      },
      "execution_count": 7,
      "outputs": [
        {
          "output_type": "stream",
          "name": "stdout",
          "text": [
            "enter a string: mom\n",
            "It is a palindrome\n"
          ]
        }
      ]
    }
  ]
}